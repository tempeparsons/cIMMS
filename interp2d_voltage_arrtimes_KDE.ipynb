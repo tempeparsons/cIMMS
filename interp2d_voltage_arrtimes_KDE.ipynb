{
 "cells": [
  {
   "cell_type": "code",
   "execution_count": 1,
   "id": "8b37619d",
   "metadata": {},
   "outputs": [],
   "source": [
    "import numpy as np\n",
    "import matplotlib.pyplot as plt\n",
    "\n",
    "filename_list = ['2021-03-03_IAPP_2n5_sliceA_0V_dt_extracted.txt',\n",
    "                 '2021-03-03_IAPP_2n5_sliceA_10V_dt_extracted.txt',\n",
    "                 '2021-03-03_IAPP_2n5_sliceA_20V_dt_extracted.txt',\n",
    "                 '2021-03-03_IAPP_2n5_sliceA_30V_dt_extracted.txt',\n",
    "                 '2021-03-03_IAPP_2n5_sliceA_40V_dt_extracted.txt',\n",
    "                 '2021-03-03_IAPP_2n5_sliceA_50V_dt_extracted.txt',\n",
    "                 '2021-03-03_IAPP_2n5_sliceA_60V_dt_extracted.txt',\n",
    "                 '2021-03-03_IAPP_2n5_sliceA_70V_dt_extracted.txt']\n",
    "\n",
    "datastore = {}\n",
    "for filename in filename_list:\n",
    "    with open (filename, 'r') as f:\n",
    "        filenameparts = filename.split('_')\n",
    "        voltage = filenameparts[4].replace('V', '')\n",
    "        voltage = int(voltage)\n",
    "        arrtime = []\n",
    "        intensity = []\n",
    "        for dataline in f:\n",
    "            dataline = dataline.replace('\\n', '')\n",
    "            arrtime_intensity = dataline.split('\\t')\n",
    "            arrtime.append(float(arrtime_intensity[0]))\n",
    "            intensity.append(float(arrtime_intensity[1]))         \n",
    "            pairs = list(zip(arrtime, intensity))\n",
    "        datastore[voltage] = pairs"
   ]
  },
  {
   "cell_type": "code",
   "execution_count": 2,
   "id": "4a91c233",
   "metadata": {},
   "outputs": [],
   "source": [
    "arrts_for2d = []\n",
    "intens_for2d = []\n",
    "volts_for2d = []\n",
    "\n",
    "#for k, pair in datastore.items():\n",
    "#    for i in pair:\n",
    "#        if not i[1]:\n",
    "#            continue\n",
    "#        arrts_for2d.append(i[0])\n",
    "#        intens_for2d.append(i[1])\n",
    "#        volts_for2d.append(k)\n",
    "for k, pair in datastore.items():\n",
    "    for i in pair:\n",
    "        #if not i[1]: #comment in out for rectbivariatespline\n",
    "         #   continue #skip this bit of loop without doing anything. ###skips the zero vals###. \n",
    "        arrts_for2d.append(i[0])\n",
    "        intens_for2d.append(i[1])\n",
    "        volts_for2d.append(k)\n",
    "                \n",
    "#going to try without taking out zeros for now"
   ]
  },
  {
   "cell_type": "code",
   "execution_count": 3,
   "id": "0ed0c914",
   "metadata": {},
   "outputs": [
    {
     "name": "stdout",
     "output_type": "stream",
     "text": [
      "(100, 100)\n"
     ]
    },
    {
     "data": {
      "image/png": "[encoded data removed]",
      "text/plain": [
       "<Figure size 640x480 with 1 Axes>"
      ]
     },
     "metadata": {},
     "output_type": "display_data"
    }
   ],
   "source": [
    "from scipy.interpolate import interp2d, RectBivariateSpline\n",
    "from matplotlib.colors import LinearSegmentedColormap\n",
    "\n",
    "#X2d = np.array(arrts_for2d)\n",
    "#Y2d = np.array(volts_for2d)\n",
    "#Z2d = np.array(intens_for2d)\n",
    "\n",
    "X2d = np.array(sorted(set(arrts_for2d))) #flat list\n",
    "Y2d = np.array(sorted(set(volts_for2d))) #flat list 0 to 70 once\n",
    "Z2d = np.array(intens_for2d)\n",
    "Z2d = Z2d.reshape(len(Y2d), len(X2d)).T\n",
    "\n",
    "\n",
    "\n",
    "#interp_func = interp2d(X2d, Y2d, Z2d, kind='cubic', fill_value=0.0)\n",
    "interp_func = RectBivariateSpline(X2d, Y2d, Z2d, bbox=[None, None, None, None], kx=3, ky=3, s=0)\n",
    "\n",
    "X_max = 80\n",
    "X_min = X2d.min()\n",
    "Y_min = 0\n",
    "Y_max = 70\n",
    "\n",
    "n_smooth = 100\n",
    "\n",
    "X2d_plot = np.linspace(X_min, X_max, n_smooth)\n",
    "Y2d_plot = np.linspace(Y_min, Y_max, n_smooth) \n",
    "\n",
    "Intens2d_plot = interp_func(X2d_plot, Y2d_plot)\n",
    "Intens2d_plot = np.clip(Intens2d_plot, a_min = 0, a_max = None)\n",
    "\n",
    "\n",
    "#Intens2d_plot = interp_func(X2d_plot, Y2d_plot)\n",
    "print(Intens2d_plot.shape)\n",
    "\n",
    "density_colormap = LinearSegmentedColormap.from_list(name='density', colors=['#FFFFFF','#000080','#0080FF'], N=256)\n",
    "#density_colormap = LinearSegmentedColormap.from_list(name='density', colors=['#FFFFFF', '#000000','#0080FF','#FF0000','#FFFF00'], N=256)\n",
    "\n",
    "fig, ax = plt.subplots()\n",
    "x_range = (X_min, X_max) #min and max, effectively, cos it's sorted\n",
    "y_range = (Y_min, Y_max)\n",
    "\n",
    "aspect = (x_range[1] - x_range[0])/(y_range[1] - y_range[0])\n",
    "\n",
    "#Intens2d_plot = np.clip(Intens2d_plot, 0.0, None)\n",
    "\n",
    "ax.imshow(Intens2d_plot.T, cmap=density_colormap, origin='lower', extent=x_range + y_range, aspect=aspect, vmin=0.0)\n",
    "#ax.imshow(Intens2d_plot, cmap=density_colormap, origin='lower', extent=x_range + y_range, aspect=aspect, vmin=0.0)\n",
    "plt.show()"
   ]
  },
  {
   "cell_type": "code",
   "execution_count": 4,
   "id": "c5a326a6",
   "metadata": {},
   "outputs": [
    {
     "name": "stdout",
     "output_type": "stream",
     "text": [
      "[ 54.982  55.228  55.474  55.72   55.966  56.212  56.458  56.704  56.95\n",
      "  57.196  57.442  57.688  57.934  58.18   58.426  58.672  58.918  59.164\n",
      "  59.41   59.656  59.902  60.148  60.394  60.64   60.886  61.132  61.378\n",
      "  61.624  61.87   62.116  62.362  62.608  62.854  63.1    63.346  63.592\n",
      "  63.838  64.084  64.33   64.576  64.822  65.068  65.314  65.56   65.806\n",
      "  66.052  66.298  66.544  66.79   67.036  67.282  67.528  67.774  68.02\n",
      "  68.266  68.512  68.758  69.004  69.25   69.496  69.742  69.988  70.234\n",
      "  70.48   70.726  70.972  71.218  71.464  71.71   71.956  72.202  72.448\n",
      "  72.694  72.94   73.186  73.432  73.678  73.924  74.17   74.416  74.662\n",
      "  74.908  75.154  75.4    75.646  75.892  76.138  76.384  76.63   76.876\n",
      "  77.122  77.368  77.614  77.86   78.106  78.352  78.598  78.844  79.09\n",
      "  79.336  79.582  79.828  80.074  80.32   80.566  80.812  81.058  81.304\n",
      "  81.55   81.796  82.042  82.288  82.534  82.78   83.026  83.272  83.518\n",
      "  83.764  84.01   84.256  84.502  84.748  84.994  85.24   85.486  85.732\n",
      "  85.978  86.224  86.47   86.716  86.962  87.208  87.454  87.7    87.946\n",
      "  88.192  88.438  88.684  88.93   89.176  89.422  89.668  89.914  90.16\n",
      "  90.406  90.652  90.898  91.144  91.39   91.636  91.882  92.128  92.374\n",
      "  92.62   92.866  93.112  93.358  93.604  93.85   94.096  94.342  94.588\n",
      "  94.834  95.08   95.326  95.572  95.818  96.064  96.31   96.556  96.802\n",
      "  97.048  97.294  97.54   97.786  98.032  98.278  98.524  98.77   99.016\n",
      "  99.262  99.508  99.754 100.    100.246 100.492 100.738 100.984 101.23\n",
      " 101.476 101.722 101.968 102.214 102.46  102.706 102.952 103.198 103.444\n",
      " 103.69  103.936]\n",
      "8\n",
      "200\n",
      "(200,) (8,) (200, 8)\n",
      "(100, 100)\n"
     ]
    }
   ],
   "source": [
    "print(X2d)\n",
    "print(len(Y2d))\n",
    "print(len(Z2d))\n",
    "print(X2d.shape, Y2d.shape, Z2d.shape)\n",
    "print(Intens2d_plot.shape)"
   ]
  },
  {
   "cell_type": "code",
   "execution_count": 5,
   "id": "adecad09",
   "metadata": {},
   "outputs": [
    {
     "name": "stdout",
     "output_type": "stream",
     "text": [
      "10000\n",
      "10000\n",
      "10000\n",
      "[54.982  0.   ] [80. 70.]\n"
     ]
    }
   ],
   "source": [
    "Volts_new = Y2d_plot # np.linspace(0, 70, 200)\n",
    "\n",
    "n,m = Intens2d_plot.shape\n",
    "\n",
    "x_smootharrT_coords = []\n",
    "y_smoothV_coords = []\n",
    "smooth_intensities = []\n",
    "\n",
    "\n",
    "for i in range(n):\n",
    "    for j in range(m):\n",
    "        intensity_value = int(Intens2d_plot[j,i])\n",
    "        x_smootharrT_coords.append(X2d_plot[i])        \n",
    "        y_smoothV_coords.append(Volts_new[j])\n",
    "        smooth_intensities.append(intensity_value)\n",
    "print(len(x_smootharrT_coords)) #40,000\n",
    "print(len(y_smoothV_coords)) #40,000 i.e. 200*200\n",
    "print(len(smooth_intensities)) #40,000 i.e. 200*200\n",
    "\n",
    "smoothxycoords = list(zip(x_smootharrT_coords, y_smoothV_coords))\n",
    "smoothxycoords = np.array(smoothxycoords)\n",
    "smooth_intensities = np.array(smooth_intensities)\n",
    "\n",
    "print(smoothxycoords.min(axis=0), smoothxycoords.max(axis=0))"
   ]
  },
  {
   "cell_type": "code",
   "execution_count": 9,
   "id": "ffb08d9c",
   "metadata": {},
   "outputs": [
    {
     "name": "stdout",
     "output_type": "stream",
     "text": [
      "(15.554630489073366, 23.391902413224607, 16.929691906780263, 24.17838941387608)\n"
     ]
    },
    {
     "data": {
      "image/png": "[encoded data removed]",
      "text/plain": [
       "<Figure size 1600x1600 with 2 Axes>"
      ]
     },
     "metadata": {},
     "output_type": "display_data"
    }
   ],
   "source": [
    "import pomegranate\n",
    "from pomegranate import GeneralMixtureModel, MultivariateGaussianDistribution, IndependentComponentsDistribution, NormalDistribution\n",
    "import numpy as np\n",
    "from matplotlib import pyplot as plt\n",
    "from matplotlib.colors import LinearSegmentedColormap\n",
    "\n",
    "class MinStdNormalDistributionX(NormalDistribution):\n",
    "    def __init__(self, *args, **kw):\n",
    "        kw['min_std'] =  0#0.6 #0.1 #0.8 #1 #2#0.6\n",
    "        NormalDistribution.__init__(self, *args, **kw)\n",
    "class MinStdNormalDistributionY(NormalDistribution):\n",
    "    def __init__(self, *args, **kw):\n",
    "        kw['min_std'] = 0#5 #8 #1 #5#11 ##stick w 10\n",
    "        NormalDistribution.__init__(self, *args, **kw)\n",
    "\n",
    "test_n_components = [4]\n",
    "\n",
    "fig1, axarr = plt.subplots(2, len(test_n_components), squeeze=False)\n",
    "fig1.set_size_inches(16,16)\n",
    "\n",
    "gmmlist = [] #objects for 3,4,5 components\n",
    "for i, n_comp in enumerate(test_n_components):\n",
    " \n",
    "    gmm = GeneralMixtureModel.from_samples([MinStdNormalDistributionX, MinStdNormalDistributionY],\n",
    "                                         n_comp, smoothxycoords, smooth_intensities, n_init=10, max_kmeans_iterations=50, \n",
    "                                          stop_threshold=0.1, lr_decay=0.5, verbose=False)\n",
    "    gmmlist.append(gmm)\n",
    "    df = (5 * n_comp) - 1\n",
    "    lp = (gmm.log_probability(smoothxycoords) * smooth_intensities).sum() #sum, as in log space, normally porbs would multiply. \n",
    "    bic = float(df * np.log(len(smoothxycoords)) - 2.0 * lp) # For evaluating best n_comp\n",
    "    \n",
    "    # For independent x,y normals\n",
    "    comp_params = [comp.parameters[0] for comp in gmm.distributions] # Selects IndependentComponentsDistribution for each Gaussian\n",
    "    x_params = [cp[0].parameters for cp in comp_params] # NormalDistribution for X : Mean, Var pairs\n",
    "    y_params = [cp[1].parameters for cp in comp_params] # NormalDistribution for Y : Mean, Var pairs\n",
    "  \n",
    "    x_vals_mean, x_vals_var = zip(*x_params) \n",
    "    y_vals_mean, y_vals_var = zip(*y_params) \n",
    "    \n",
    "  # Sqrt for Var to Std\n",
    "    x_vals_std = np.sqrt(x_vals_var)\n",
    "    y_vals_std = np.sqrt(y_vals_var)\n",
    "\n",
    "    print(y_vals_mean)\n",
    "\n",
    "    ax1 = axarr[0,i] #\n",
    "    ax1.set_xlim(X_min, X_max)\n",
    "    ax1.set_ylim(Y_min, Y_max)\n",
    "    aspect = (X_max - X_min)/(Y_max - Y_min)\n",
    "    ax1.imshow(Intens2d_plot, cmap=density_colormap, origin='lower', extent=(X_min, X_max, Y_min, Y_max), aspect=aspect) \n",
    "    ax1.scatter(x_vals_mean, y_vals_mean, s=10, c='red', marker='*', label='Means')\n",
    "    ax1.errorbar(x_vals_mean, y_vals_mean, y_vals_std, x_vals_std, fmt='none',\n",
    "               color='red',alpha=0.3,  label='StdDevs', capsize=0.5)\n",
    "\n",
    "\n",
    "    #xgap = (max(x_smootharrT_coords) - min(x_smootharrT_coords))/10 \n",
    "    #x_grange = (min(x_smootharrT_coords)-xgap, max(x_smootharrT_coords)+xgap) \n",
    "    #n_grid = 100\n",
    "    x_points = X2d_plot # np.linspace(X_min, X_max, n_grid) \n",
    "    y_points = Y2d_plot # np.linspace(Y_min, Y_max, n_grid)\n",
    "    \n",
    "    x_grid, y_grid = np.meshgrid(x_points, y_points) # n_grid , n_grid of smoothxycoords\n",
    "    x_grid_flat = x_grid.ravel()  # Flatten to list\n",
    "    y_grid_flat = y_grid.ravel() \n",
    "    stacked_points = np.stack([x_grid_flat, y_grid_flat], axis=1) # to get x,y pairs\n",
    "\n",
    "    density = gmmlist[i].log_probability(stacked_points) # comes as log probabilties\n",
    "    density = np.exp(density) # Real probs\n",
    "    density_2d = density.reshape([len(x_points), len(y_points)]) # Restore points grid (of heights)\n",
    "\n",
    "    ax2 = axarr[1,i]\n",
    "    ax2.set_xlim(X_min, X_max)\n",
    "    ax2.set_ylim(Y_min, Y_max)\n",
    "    aspect = (X_max - X_min)/(Y_max - Y_min)\n",
    "    ax2.imshow(density_2d, cmap=density_colormap, origin='lower', extent=(X_min, X_max, Y_min, Y_max), aspect=aspect) \n",
    "    ax2.scatter(x_vals_mean, y_vals_mean, s=10, c='red', marker='*', label='Means')\n",
    "    \n",
    "plt.show() "
   ]
  },
  {
   "cell_type": "code",
   "execution_count": 7,
   "id": "ee5dab8d",
   "metadata": {},
   "outputs": [
    {
     "name": "stdout",
     "output_type": "stream",
     "text": [
      "(100, 100)\n",
      "(10000,)\n",
      "(100, 100)\n",
      "0.005402169150749082\n",
      "0.006119375254460795\n"
     ]
    },
    {
     "data": {
      "image/png": "[encoded data removed]",
      "text/plain": [
       "<Figure size 640x480 with 1 Axes>"
      ]
     },
     "metadata": {},
     "output_type": "display_data"
    },
    {
     "name": "stdout",
     "output_type": "stream",
     "text": [
      "0.00207\n"
     ]
    }
   ],
   "source": [
    "print(Intens2d_plot.shape)\n",
    "print(density.shape)\n",
    "print(density_2d.shape)\n",
    "\n",
    "norm_orig = Intens2d_plot/Intens2d_plot.sum()\n",
    "norm_pred = density_2d/density_2d.sum()\n",
    "print(norm_orig.max())\n",
    "print(norm_pred.max())\n",
    "\n",
    "resid = np.subtract(norm_orig, norm_pred)\n",
    "residual_colormap = LinearSegmentedColormap.from_list(name='density', colors=['#FF0000', '#FFFFFF','#0080FF'], N=256)\n",
    "\n",
    "fig, ax = plt.subplots()\n",
    "\n",
    "#vmax = max(resid.max(), -resid.min())\n",
    "vmax = 0.00207\n",
    "ax.imshow(resid, cmap=residual_colormap, origin='lower', vmin=-vmax, vmax=vmax, \n",
    "          extent=(X_min, X_max, Y_min, Y_max), aspect=aspect)\n",
    "\n",
    "plt.show()\n",
    "\n",
    "print(vmax)"
   ]
  },
  {
   "cell_type": "code",
   "execution_count": 8,
   "id": "1c1bbed0",
   "metadata": {},
   "outputs": [],
   "source": [
    "##problem here that fitting edges of curves not great, even when throwing silly number of components at it.\n",
    "##likely because everything stops abruptly at 0 so the interpolation gets confused.\n",
    "##allow for down to -10V so that it can fit the edges properly. \n",
    "\n",
    "##then see if that makes things better. \n",
    "##I'm putting this in a new notebook\n",
    "\n",
    "##update this didn't work that well. \n",
    "##trying putting in actual [-10V]key : arrtimes, 0-intensities as values into the datastore at the beginning\n",
    "\n",
    "##this was better but still not that great.\n",
    "\n",
    "##so tried the scipy RBTinterpolater but that was weird, prob cos radial where I have really ellipsoid stuff. \n",
    "\n",
    "##noticed the CloughTocher2d interpolator link, tried this, worked the best so far (used default settings, could fiddle with 'tol'). "
   ]
  }
 ],
 "metadata": {
  "kernelspec": {
   "display_name": "Python 3 (ipykernel)",
   "language": "python",
   "name": "python3"
  },
  "language_info": {
   "codemirror_mode": {
    "name": "ipython",
    "version": 3
   },
   "file_extension": ".py",
   "mimetype": "text/x-python",
   "name": "python",
   "nbconvert_exporter": "python",
   "pygments_lexer": "ipython3",
   "version": "3.9.13"
  }
 },
 "nbformat": 4,
 "nbformat_minor": 5
}
